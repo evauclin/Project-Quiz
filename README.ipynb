{
 "cells": [
  {
   "cell_type": "markdown",
   "metadata": {
    "collapsed": true,
    "pycharm": {
     "name": "#%% md\n"
    }
   },
   "source": [
    "Le fichier Quiz Project.ipynb est un quiz, il contient 2 cellules:\n",
    "cellule 1 : J'ai ecrit un code simple l'utilisateur peut modifier les reponses et question a sa guise sur chaque ligne.\n",
    "\n",
    "Cellule 2 : Cette cellule contient une class qui prend en parametre une liste de tuples, exemple ([(question,reponse),(question,reponse ),...]). L'utilisateur a 3 chances durant toute la durée du quiz si il effectue 3 erreurs le quiz prendra fin immediatement et il aura perdu."
   ]
  }
 ],
 "metadata": {
  "kernelspec": {
   "display_name": "Python 3",
   "language": "python",
   "name": "python3"
  },
  "language_info": {
   "codemirror_mode": {
    "name": "ipython",
    "version": 2
   },
   "file_extension": ".py",
   "mimetype": "text/x-python",
   "name": "python",
   "nbconvert_exporter": "python",
   "pygments_lexer": "ipython2",
   "version": "2.7.6"
  }
 },
 "nbformat": 4,
 "nbformat_minor": 0
}