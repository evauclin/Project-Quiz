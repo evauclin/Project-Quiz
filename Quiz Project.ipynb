{
 "cells": [
  {
   "cell_type": "code",
   "execution_count": 2,
   "metadata": {
    "collapsed": true,
    "pycharm": {
     "name": "#%%\n"
    }
   },
   "outputs": [
    {
     "name": "stdout",
     "output_type": "stream",
     "text": [
      "***********Welcome in the best Quizzz of the world***********\n",
      "\n",
      "\n",
      "Question 1\n",
      "Good job! This is the right answer\n",
      "\n",
      "\n",
      "Question 2\n",
      "Your answer after .lower() function is : etienne\n",
      "Good job! This is the right answer\n",
      "\n",
      "\n",
      "Question 3\n",
      "Too bad! that is not the correct answer\n",
      "Sorry, you have 2 chances left\n",
      "Too bad! that is not the correct answer\n",
      "Sorry, you have 1 chances left\n",
      "Too bad! that is not the correct answer\n",
      "Sorry, you have 0 chances left\n",
      "DAMMM, you lost the quiz...\n",
      "Good job! This is the right answer\n",
      "\n",
      "\n",
      "Well done! You are the quiz winner!\n"
     ]
    }
   ],
   "source": [
    "print('***********Welcome in the best Quizzz of the world***********')\n",
    "print()\n",
    "print()\n",
    "compt = 3\n",
    "play_run= True\n",
    "while play_run:\n",
    "    print('Question 1')\n",
    "    answer1 = '300000'\n",
    "    while input(\"What's the light speed in km/s\")!=answer1:\n",
    "        print('Too bad! that is not the correct answer')\n",
    "        compt-=1\n",
    "        print('Sorry, you have',compt,'chances left')\n",
    "\n",
    "        if compt == 0:\n",
    "            print('DAMMM, you lost the quiz...')\n",
    "            break\n",
    "\n",
    "    if compt == 0:\n",
    "        break\n",
    "\n",
    "    print('Good job! This is the right answer')\n",
    "    print()\n",
    "    print()\n",
    "    print('Question 2')\n",
    "    answer2 = 'etienne'\n",
    "    while input(\"What's the name of the author of this quizz ? \").lower()!= answer2:\n",
    "        print('Too bad! that is not the correct answer')\n",
    "        compt-=1\n",
    "        print('Sorry, you have',compt,'chances left')\n",
    "\n",
    "        if compt == 0:\n",
    "            print('DAMMM, you lost the quiz...')\n",
    "            break\n",
    "\n",
    "    if compt == 0:\n",
    "        break\n",
    "    print('Your answer after .lower() function is : etienne')\n",
    "    print('Good job! This is the right answer')\n",
    "    print()\n",
    "    print()\n",
    "    print('Question 3')\n",
    "    answer3 = 'Russia'\n",
    "    while input(\"What's the highest country on the word ? \").capitalize()!= answer3:\n",
    "        print('Too bad! that is not the correct answer')\n",
    "        compt-=1\n",
    "        print('Sorry, you have',compt,'chances left')\n",
    "\n",
    "        if compt == 0:\n",
    "            print('DAMMM, you lost the quiz...')\n",
    "            break\n",
    "\n",
    "    if compt == 0:\n",
    "        break\n",
    "    print('Good job! This is the right answer')\n",
    "    print()\n",
    "    print()\n",
    "    print('Well done! You are the quiz winner!')\n",
    "    play_run = False\n"
   ]
  },
  {
   "cell_type": "code",
   "execution_count": null,
   "outputs": [],
   "source": [
    "class quiz():\n",
    "\n",
    "    def __init__(self,lst):\n",
    "        self.lst = lst\n",
    "    def the_questions_play(self):\n",
    "        print('***********Welcome to the best Quizzz in the world***********')\n",
    "        print()\n",
    "        print()\n",
    "        compt = 3\n",
    "        play_run= True\n",
    "\n",
    "\n",
    "        while play_run:\n",
    "            for question,answer in self.lst:\n",
    "                while input(question).lower()!=answer.lower():\n",
    "                    print('Too bad! that is not the correct answer')\n",
    "                    compt-=1\n",
    "                    print('Sorry, you have',compt,'chances left')\n",
    "\n",
    "                    if compt == 0:\n",
    "                        print('DAMMM, you lost the quiz...')\n",
    "                        break\n",
    "\n",
    "                if compt == 0:\n",
    "                    break\n",
    "\n",
    "                print('Good job! This is the right answer')\n",
    "                print()\n",
    "                print()\n",
    "            if compt == 0:\n",
    "                break\n",
    "            print('Good job! This is the right answer')\n",
    "            print()\n",
    "            print()\n",
    "            print('Well done! You are the quiz winner!')\n",
    "            play_run = False\n",
    "Quiz = quiz([(\"What's the speed of light in km/s : \",'300000'), (\"What's the name of the author of this quizz ? : \" , \"etienne\"),(\"What's the highest country in the world ? : \",\"Russia\")])\n",
    "Quiz.the_questions_play()"
   ],
   "metadata": {
    "collapsed": false,
    "pycharm": {
     "name": "#%%\n"
    }
   }
  },
  {
   "cell_type": "code",
   "execution_count": null,
   "outputs": [],
   "source": [],
   "metadata": {
    "collapsed": false,
    "pycharm": {
     "name": "#%%\n"
    }
   }
  }
 ],
 "metadata": {
  "kernelspec": {
   "display_name": "Python 3",
   "language": "python",
   "name": "python3"
  },
  "language_info": {
   "codemirror_mode": {
    "name": "ipython",
    "version": 2
   },
   "file_extension": ".py",
   "mimetype": "text/x-python",
   "name": "python",
   "nbconvert_exporter": "python",
   "pygments_lexer": "ipython2",
   "version": "2.7.6"
  }
 },
 "nbformat": 4,
 "nbformat_minor": 0
}